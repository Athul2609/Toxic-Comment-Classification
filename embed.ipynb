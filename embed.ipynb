{
 "cells": [
  {
   "cell_type": "code",
   "execution_count": 1,
   "id": "9f362553",
   "metadata": {},
   "outputs": [],
   "source": [
    "import numpy as np"
   ]
  },
  {
   "cell_type": "code",
   "execution_count": 2,
   "id": "8749a765",
   "metadata": {},
   "outputs": [],
   "source": [
    "# Load GloVe embeddings\n",
    "def load_glove_embeddings(path):\n",
    "    embeddings_index = {}\n",
    "    with open(path, 'r', encoding='utf-8') as f:\n",
    "        for line in f:\n",
    "            values = line.strip().split()\n",
    "            word = values[0]\n",
    "            vector = np.asarray(values[1:], dtype='float32')\n",
    "            embeddings_index[word] = vector\n",
    "            print(vector)\n",
    "            print(vector.shape)\n",
    "    return embeddings_index"
   ]
  },
  {
   "cell_type": "code",
   "execution_count": null,
   "id": "9b7a1f9e",
   "metadata": {},
   "outputs": [],
   "source": [
    "embedding_path = r\"C:\\Users\\athul\\myfiles\\projects\\toxic comment classifier\\glove\\glove.6B.50d.txt\"\n",
    "embeddings_index = load_glove_embeddings(embedding_path)"
   ]
  },
  {
   "cell_type": "code",
   "execution_count": 14,
   "id": "37847b26",
   "metadata": {},
   "outputs": [],
   "source": [
    "# Create word-to-index mapping\n",
    "word2idx = {word: idx for idx, word in enumerate(embeddings_index.keys())}\n",
    "\n",
    "# Create embedding matrix\n",
    "embedding_matrix = np.zeros((len(word2idx), len(embeddings_index['word'])))\n",
    "for word, idx in word2idx.items():\n",
    "    if word in embeddings_index:\n",
    "        embedding_matrix[idx] = embeddings_index[word]"
   ]
  },
  {
   "cell_type": "code",
   "execution_count": 21,
   "id": "4b5f3ab8",
   "metadata": {},
   "outputs": [],
   "source": [
    "np.save('embedding_matrix.npy', embedding_matrix)"
   ]
  },
  {
   "cell_type": "code",
   "execution_count": 22,
   "id": "f97ecce9",
   "metadata": {},
   "outputs": [],
   "source": [
    "import pickle\n",
    "with open('word2idx.pkl', 'wb') as f:\n",
    "    pickle.dump(word2idx, f)"
   ]
  }
 ],
 "metadata": {
  "kernelspec": {
   "display_name": "Python 3 (ipykernel)",
   "language": "python",
   "name": "python3"
  },
  "language_info": {
   "codemirror_mode": {
    "name": "ipython",
    "version": 3
   },
   "file_extension": ".py",
   "mimetype": "text/x-python",
   "name": "python",
   "nbconvert_exporter": "python",
   "pygments_lexer": "ipython3",
   "version": "3.9.17"
  }
 },
 "nbformat": 4,
 "nbformat_minor": 5
}
